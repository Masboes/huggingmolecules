{
 "cells": [
  {
   "cell_type": "code",
   "execution_count": 9,
   "id": "28aedb0b-c780-46cb-bf72-30cc6d99e6d3",
   "metadata": {},
   "outputs": [
    {
     "data": {
      "text/plain": [
       "array([[-0.6496998 , -0.57952565, -0.5719348 , ..., -1.6774462 ,\n",
       "        -0.27131468,  0.8308551 ],\n",
       "       [-0.37015235, -0.27983865, -0.49142447, ..., -1.3654205 ,\n",
       "        -0.02482126,  1.2173467 ]], dtype=float32)"
      ]
     },
     "execution_count": 9,
     "metadata": {},
     "output_type": "execute_result"
    }
   ],
   "source": [
    "from src.huggingmolecules import GroverConfig, GroverFeaturizer, GroverModel\n",
    "import torch\n",
    "\n",
    "# Build the model and load the pre-trained weights in one line:\n",
    "model = GroverModel.from_pretrained('grover_base')\n",
    "model.eval()\n",
    "\n",
    "# Encode (featurize) the batch of two SMILES strings: \n",
    "featurizer = GroverFeaturizer.from_pretrained('grover_base')\n",
    "\n",
    "def get_fingerprint(smiles):\n",
    "    batch = featurizer([smiles])\n",
    "    \n",
    "    emb = model(batch)\n",
    "\n",
    "    emb = torch.cat([emb[0], emb[1]], dim=-1).squeeze(0)\n",
    "    \n",
    "    return emb.detach()\n",
    "\n",
    "def get_fingerprint_batch(batch):\n",
    "    batch = featurizer(batch)\n",
    "    \n",
    "    emb = model(batch)\n",
    "\n",
    "    emb = torch.cat([emb[0], emb[1]], dim=-1).squeeze(0)\n",
    "    \n",
    "    return np.array(emb.detach())\n",
    "\n",
    "get_fingerprint_batch([\"C[S+]([O-])c1ccc(-c2nc(-c3ccc(F)cc3)c(-c3ccncc3)[nH]2)cc1\", \"CCCCCC=CCC=CC=CC=CC(SCC(NC(=O)CCC(N)C(=O)O)C(=O)NCC(=O)O)C(O)CCCC(=O)O\"])"
   ]
  },
  {
   "cell_type": "code",
   "execution_count": null,
   "id": "ff7b1ebb-6768-4396-8b5b-7bcc12a6de72",
   "metadata": {},
   "outputs": [],
   "source": [
    "import csv, tqdm\n",
    "import numpy as np\n",
    "\n",
    "chem_dict = {}\n",
    "\n",
    "with open(\"stitch_molecules.csv\", \"r\") as f:\n",
    "    reader = csv.reader(f, delimiter=\";\")\n",
    "    next(reader)\n",
    "    lines = list(reader)\n",
    "    for line in tqdm.tqdm(lines):\n",
    "        #print('line[{}] = {}'.format(i, line))\n",
    "        chem_dict[line[0]] = np.array(get_fingerprint(line[0]))\n",
    "        \n"
   ]
  },
  {
   "cell_type": "code",
   "execution_count": null,
   "id": "b49f63c2-17ca-459b-8e09-7747bb611212",
   "metadata": {},
   "outputs": [
    {
     "name": "stderr",
     "output_type": "stream",
     "text": [
      "  0%|▏                                                                                     | 121/76106.2 [00:47<7:42:41,  2.74it/s]"
     ]
    }
   ],
   "source": [
    "import csv, tqdm\n",
    "import numpy as np\n",
    "\n",
    "chem_dict = {}\n",
    "\n",
    "seqs = []\n",
    "with open(\"stitch_molecules.csv\", \"r\") as f:\n",
    "    reader = csv.reader(f, delimiter=\";\")\n",
    "    next(reader)\n",
    "    lines = list(reader)\n",
    "    for line in lines:\n",
    "        smiles = line[0]\n",
    "        seqs.append(smiles)\n",
    "        \n",
    "def chunker(seq, size):\n",
    "    return (seq[pos:pos + size] for pos in range(0, len(seq), size))\n",
    "\n",
    "for batch in tqdm.tqdm(chunker(seqs, 4), total=len(seqs)/5):\n",
    "    fingerprints = get_fingerprint_batch(batch)\n",
    "    \n",
    "    for i in range(len(batch)):\n",
    "        chem_dict[batch[i]] = fingerprints[i]"
   ]
  },
  {
   "cell_type": "code",
   "execution_count": 30,
   "id": "3216e2a5-e3cc-440c-a536-27bf127fca3b",
   "metadata": {},
   "outputs": [],
   "source": [
    "np.savez_compressed(\"graph_dict_stitch.npz\", gdict=chem_dict)"
   ]
  },
  {
   "cell_type": "code",
   "execution_count": null,
   "id": "3934f381-9e38-42af-82c2-69a54f73d719",
   "metadata": {},
   "outputs": [],
   "source": []
  }
 ],
 "metadata": {
  "kernelspec": {
   "display_name": "Python 3 (ipykernel)",
   "language": "python",
   "name": "python3"
  },
  "language_info": {
   "codemirror_mode": {
    "name": "ipython",
    "version": 3
   },
   "file_extension": ".py",
   "mimetype": "text/x-python",
   "name": "python",
   "nbconvert_exporter": "python",
   "pygments_lexer": "ipython3",
   "version": "3.8.5"
  }
 },
 "nbformat": 4,
 "nbformat_minor": 5
}
